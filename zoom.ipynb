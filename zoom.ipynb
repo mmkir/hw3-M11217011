{
 "cells": [
  {
   "cell_type": "markdown",
   "metadata": {},
   "source": [
    "# function"
   ]
  },
  {
   "cell_type": "code",
   "execution_count": 3,
   "metadata": {},
   "outputs": [],
   "source": [
    "import os\n",
    "\n",
    "# 查看資料夾內 '同副檔名' 的 '檔名'\n",
    "def find_filename(folder_path:str=None,     # 資料夾位置\n",
    "                  File_extension:str=None): # 副檔名\n",
    "    \"\"\"  尋找資料夾內 '特定副檔名' 的 '所有檔案的檔名'    \"\"\"\n",
    "    filesname = [file for file in os.listdir(folder_path) if file.endswith(f'.{File_extension}')]\n",
    "    return filesname,len(filesname)\n"
   ]
  },
  {
   "cell_type": "markdown",
   "metadata": {},
   "source": [
    "# **縮放圖片**"
   ]
  },
  {
   "cell_type": "code",
   "execution_count": 4,
   "metadata": {},
   "outputs": [],
   "source": [
    "from PIL import Image\n",
    "\n",
    "for dataset in ['訓練','驗證','測試']:\n",
    "    folder_path = f\"資料集/貨櫃資料集/{dataset}集/\"\n",
    "    filesname,num = find_filename(folder_path,'jpg')\n",
    "\n",
    "    for filename in filesname:\n",
    "        # 打開圖片檔案\n",
    "        img = Image.open(f\"資料集/貨櫃資料集/{dataset}集/{filename}\")\n",
    "\n",
    "        # 使用 resize 函數來縮放圖片，使用 Lanczos 演算法\n",
    "        resized_img = img.resize((416, 416), Image.Resampling.LANCZOS)\n",
    "\n",
    "        # 儲存縮放後的圖片為 JPG 檔案\n",
    "        resized_img.save(f\"資料集/貨櫃資料集_縮放/{dataset}集_image/{filename}\", \"JPEG\")"
   ]
  },
  {
   "cell_type": "code",
   "execution_count": 8,
   "metadata": {},
   "outputs": [
    {
     "name": "stdout",
     "output_type": "stream",
     "text": [
      "['FFAU2895947.jpg', 'MAGU5605323 .jpg', 'SEKU5875349.jpg', 'SEKU5877491.jpg', 'SEKU6026686.jpg', 'TCNU6246126.jpg', 'TLLU4080736.jpg', 'TRHU8927462.jpg', 'TSSU5017340.jpg', 'TSSU5029819.jpg', 'TSSU5042071.jpg', 'TSSU5061615.jpg', 'TSSU5099400.jpg', 'TSSU5142300.jpg', 'TSSU5160351.jpg', 'WHLU5591798.jpg', 'WHLU5842825.jpg', 'WHSU2483178.jpg', 'WHSU2615314.jpg', 'WHSU2864765.jpg', 'WHSU5295430.jpg', 'WHSU5368199.jpg', 'WHSU5563298.jpg', 'WHSU5610492.jpg', 'WHSU5628589.jpg', 'WHSU5744465.jpg', 'WHSU5991104.jpg', 'WHSU5998393.jpg', 'WHSU6010260.jpg', 'WHSU6040178.jpg', 'WHSU6052306.jpg', 'WHSU6167120.jpg', 'WHSU6557387.jpg', 'WHSU6651665.jpg', 'WHSU6856285.jpg']\n"
     ]
    }
   ],
   "source": [
    "from PIL import Image\n",
    "# filesname = []\n",
    "folder_path = f\"資料集/圖片準確率測試集/\"\n",
    "filesname,num = find_filename(folder_path,'jpg')\n",
    "print(filesname)\n",
    "for filename in filesname:\n",
    "    img = Image.open(f\"{folder_path}{filename}\")\n",
    "    resized_img = img.resize((416, 416), Image.Resampling.LANCZOS)\n",
    "    resized_img.save(f\"資料集/貨櫃資料集_縮放/圖片準確率測試集/{filename}\", \"JPEG\")"
   ]
  },
  {
   "cell_type": "markdown",
   "metadata": {},
   "source": [
    "# **縮放標記**"
   ]
  },
  {
   "cell_type": "code",
   "execution_count": null,
   "metadata": {},
   "outputs": [],
   "source": [
    "import xml.etree.ElementTree as ET\n",
    "\n",
    "def resize_xml(original_xml_path, new_size, save_xml_path):\n",
    "    # 載入原始 XML 檔案\n",
    "    tree = ET.parse(original_xml_path)\n",
    "    root = tree.getroot()\n",
    "\n",
    "    # 獲取原始圖像尺寸\n",
    "    original_width = int(root.find('./size/width').text)\n",
    "    original_height = int(root.find('./size/height').text)\n",
    "\n",
    "    # 計算縮放比例\n",
    "    scale_width = new_size[0] / original_width\n",
    "    scale_height = new_size[1] / original_height\n",
    "\n",
    "    # 更新圖像尺寸\n",
    "    root.find('./size/width').text = str(new_size[0])\n",
    "    root.find('./size/height').text = str(new_size[1])\n",
    "\n",
    "    # 更新所有 bndbox 坐標\n",
    "    for bndbox in root.iter('bndbox'):\n",
    "        xmin = int(bndbox.find('xmin').text)\n",
    "        ymin = int(bndbox.find('ymin').text)\n",
    "        xmax = int(bndbox.find('xmax').text)\n",
    "        ymax = int(bndbox.find('ymax').text)\n",
    "\n",
    "        bndbox.find('xmin').text = str(int(xmin * scale_width))\n",
    "        bndbox.find('ymin').text = str(int(ymin * scale_height))\n",
    "        bndbox.find('xmax').text = str(int(xmax * scale_width))\n",
    "        bndbox.find('ymax').text = str(int(ymax * scale_height))\n",
    "\n",
    "    # 儲存更新後的 XML 到新的檔案位置\n",
    "    tree.write(save_xml_path)"
   ]
  },
  {
   "cell_type": "code",
   "execution_count": null,
   "metadata": {},
   "outputs": [],
   "source": [
    "for dataset in ['訓練','驗證','測試']:\n",
    "    folder_path = f\"資料集/貨櫃資料集/{dataset}集_xml/\"\n",
    "    filesname,num = find_filename(folder_path,'xml')\n",
    "\n",
    "    for filename in filesname:\n",
    "        original_xml_path = f\"資料集/貨櫃資料集/{dataset}集_xml/{filename}\"\n",
    "        save_xml_path = f\"資料集/貨櫃資料集_縮放/{dataset}集_xml/{filename}\"\n",
    "\n",
    "        resize_xml(original_xml_path, (416,416), save_xml_path)"
   ]
  },
  {
   "cell_type": "markdown",
   "metadata": {},
   "source": [
    "# 調整成yolo輸入格式"
   ]
  },
  {
   "cell_type": "code",
   "execution_count": null,
   "metadata": {},
   "outputs": [],
   "source": [
    "import os\n",
    "import xml.etree.ElementTree as ET\n",
    "\n",
    "def convert_xml_to_yolo(xml_folder, label_folder, image_size=(416, 416)):\n",
    "    for xml_file in os.listdir(xml_folder):\n",
    "        tree = ET.parse(os.path.join(xml_folder, xml_file))\n",
    "        root = tree.getroot()\n",
    "        image_width = int(root.find('./size/width').text)\n",
    "        image_height = int(root.find('./size/height').text)\n",
    "\n",
    "        # Create a corresponding YOLO label file\n",
    "        label_file = xml_file.replace('.xml', '.txt')\n",
    "        with open(os.path.join(label_folder, label_file), 'w') as file:\n",
    "            for obj in root.iter('object'):\n",
    "                cls = obj.find('name').text\n",
    "                cls_id = class_to_id(cls)  # Convert class name to an ID\n",
    "                xmlbox = obj.find('bndbox')\n",
    "                x_min = int(xmlbox.find('xmin').text)\n",
    "                y_min = int(xmlbox.find('ymin').text)\n",
    "                x_max = int(xmlbox.find('xmax').text)\n",
    "                y_max = int(xmlbox.find('ymax').text)\n",
    "\n",
    "                x_center = ((x_min + x_max) / 2) / image_width\n",
    "                y_center = ((y_min + y_max) / 2) / image_height\n",
    "                width = (x_max - x_min) / image_width\n",
    "                height = (y_max - y_min) / image_height\n",
    "\n",
    "                file.write(f\"{cls_id} {x_center} {y_center} {width} {height}\\n\")\n",
    "\n",
    "def class_to_id(class_name):\n",
    "    # This function should map class names to integer IDs\n",
    "    return {\n",
    "        'container': 0  # Example: map 'container' to 0\n",
    "    }.get(class_name, -1)  # Return -1 if class_name is not found\n",
    "\n",
    "# Example usage\n",
    "for dataset in ['訓練','驗證','測試']:\n",
    "    convert_xml_to_yolo(f'資料集/貨櫃資料集_縮放/{dataset}集_xml/', \n",
    "                        f'資料集/貨櫃資料集_縮放/{dataset}集_label/')\n"
   ]
  }
 ],
 "metadata": {
  "kernelspec": {
   "display_name": "py310",
   "language": "python",
   "name": "python3"
  },
  "language_info": {
   "codemirror_mode": {
    "name": "ipython",
    "version": 3
   },
   "file_extension": ".py",
   "mimetype": "text/x-python",
   "name": "python",
   "nbconvert_exporter": "python",
   "pygments_lexer": "ipython3",
   "version": "3.10.14"
  }
 },
 "nbformat": 4,
 "nbformat_minor": 2
}
