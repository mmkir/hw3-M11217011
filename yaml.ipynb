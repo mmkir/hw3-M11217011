{
 "cells": [
  {
   "cell_type": "code",
   "execution_count": 1,
   "metadata": {},
   "outputs": [],
   "source": [
    "yaml_path = dict(   train= 'D:/學業/碩士課程/機器學習/分組作業/專題三/資料集/貨櫃資料集_縮放/訓練集/',  # 圖像文件夾\n",
    "                    val= 'D:/學業/碩士課程/機器學習/分組作業/專題三/資料集/貨櫃資料集_縮放/驗證集/',  # 圖像文件夾\n",
    "                    test= 'D:/學業/碩士課程/機器學習/分組作業/專題三/資料集/貨櫃資料集_縮放/測試集/',  # 圖像文件夾\n",
    "\n",
    "                    # 標記文件夾，YOLOv8 會在這些文件夾內尋找與圖像同名的 txt 文件\n",
    "                    # train_label= 'D:/學業/碩士課程/機器學習/分組作業/專題三/資料集/貨櫃資料集_縮放/訓練集_label/',\n",
    "                    # val_label= 'D:/學業/碩士課程/機器學習/分組作業/專題三/資料集/貨櫃資料集_縮放/驗證集_label/',\n",
    "                    # test_label= '資料集/貨櫃資料集_縮放/測試集_label/',\n",
    "\n",
    "                    nc= 1,  # 類別數量\n",
    "                    names= ['container'])  # 類別名稱列表"
   ]
  },
  {
   "cell_type": "code",
   "execution_count": 2,
   "metadata": {},
   "outputs": [],
   "source": [
    "import yaml\n",
    "with open('data.yaml', 'w') as outfile:\n",
    "    yaml.dump(yaml_path, outfile, default_flow_style=False)"
   ]
  }
 ],
 "metadata": {
  "kernelspec": {
   "display_name": "PYtorch",
   "language": "python",
   "name": "python3"
  },
  "language_info": {
   "codemirror_mode": {
    "name": "ipython",
    "version": 3
   },
   "file_extension": ".py",
   "mimetype": "text/x-python",
   "name": "python",
   "nbconvert_exporter": "python",
   "pygments_lexer": "ipython3",
   "version": "3.11.9"
  }
 },
 "nbformat": 4,
 "nbformat_minor": 2
}
